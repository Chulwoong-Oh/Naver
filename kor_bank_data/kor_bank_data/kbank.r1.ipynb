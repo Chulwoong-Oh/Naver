{
 "cells": [
  {
   "cell_type": "code",
   "execution_count": 258,
   "id": "4b2f7dc0-0588-452f-898d-0c35cb750414",
   "metadata": {},
   "outputs": [],
   "source": [
    "import json"
   ]
  },
  {
   "cell_type": "code",
   "execution_count": 259,
   "id": "013a8242-d40e-442b-ab9b-82bf8a5cbbb5",
   "metadata": {},
   "outputs": [],
   "source": [
    "import pandas as pd"
   ]
  },
  {
   "cell_type": "code",
   "execution_count": 260,
   "id": "c4a51265-ce9d-486f-8405-f567d23b3838",
   "metadata": {
    "tags": []
   },
   "outputs": [],
   "source": [
    "with open('result.json', 'r') as datafile:\n",
    "    data = json.load(datafile)"
   ]
  },
  {
   "cell_type": "code",
   "execution_count": 261,
   "id": "565e7c9b-ce0a-4a07-8566-689be8d56d04",
   "metadata": {},
   "outputs": [],
   "source": [
    "adata = pd.DataFrame(data[0])"
   ]
  },
  {
   "cell_type": "code",
   "execution_count": 262,
   "id": "1b63a687-d82f-4971-8145-2c3780229846",
   "metadata": {},
   "outputs": [],
   "source": [
    "adata.to_json(\"result1.json\")"
   ]
  },
  {
   "cell_type": "code",
   "execution_count": 263,
   "id": "5bd99723-7b3d-4129-aba9-6d6fb5ffa232",
   "metadata": {},
   "outputs": [],
   "source": [
    "bdata = pd.read_json('result1.json')"
   ]
  },
  {
   "cell_type": "code",
   "execution_count": 278,
   "id": "2b9c1e21-3774-4631-b6ba-a8fceb44d030",
   "metadata": {},
   "outputs": [],
   "source": [
    "df = pd.read_csv('result.csv')"
   ]
  },
  {
   "cell_type": "code",
   "execution_count": 279,
   "id": "ac1a4919-e787-4fcf-8e07-c71bacb5a1a3",
   "metadata": {},
   "outputs": [
    {
     "data": {
      "text/html": [
       "<div>\n",
       "<style scoped>\n",
       "    .dataframe tbody tr th:only-of-type {\n",
       "        vertical-align: middle;\n",
       "    }\n",
       "\n",
       "    .dataframe tbody tr th {\n",
       "        vertical-align: top;\n",
       "    }\n",
       "\n",
       "    .dataframe thead th {\n",
       "        text-align: right;\n",
       "    }\n",
       "</style>\n",
       "<table border=\"1\" class=\"dataframe\">\n",
       "  <thead>\n",
       "    <tr style=\"text-align: right;\">\n",
       "      <th></th>\n",
       "      <th>UNIT_NAME</th>\n",
       "      <th>STAT_NAME</th>\n",
       "      <th>ITEM_CODE1</th>\n",
       "      <th>STAT_CODE</th>\n",
       "      <th>ITEM_CODE2</th>\n",
       "      <th>ITEM_CODE3</th>\n",
       "      <th>ITEM_NAME1</th>\n",
       "      <th>ITEM_NAME2</th>\n",
       "      <th>DATA_VALUE</th>\n",
       "      <th>ITEM_NAME3</th>\n",
       "      <th>TIME</th>\n",
       "    </tr>\n",
       "  </thead>\n",
       "  <tbody>\n",
       "    <tr>\n",
       "      <th>0</th>\n",
       "      <td>연%</td>\n",
       "      <td>2.6.한국은행 기준금리 및 여수신금리</td>\n",
       "      <td>101000</td>\n",
       "      <td>098Y001</td>\n",
       "      <td></td>\n",
       "      <td></td>\n",
       "      <td>한국은행 기준금리</td>\n",
       "      <td></td>\n",
       "      <td>1.75</td>\n",
       "      <td></td>\n",
       "      <td>201901</td>\n",
       "    </tr>\n",
       "    <tr>\n",
       "      <th>1</th>\n",
       "      <td>연%</td>\n",
       "      <td>2.6.한국은행 기준금리 및 여수신금리</td>\n",
       "      <td>101000</td>\n",
       "      <td>098Y001</td>\n",
       "      <td></td>\n",
       "      <td></td>\n",
       "      <td>한국은행 기준금리</td>\n",
       "      <td></td>\n",
       "      <td>1.75</td>\n",
       "      <td></td>\n",
       "      <td>201902</td>\n",
       "    </tr>\n",
       "    <tr>\n",
       "      <th>2</th>\n",
       "      <td>연%</td>\n",
       "      <td>2.6.한국은행 기준금리 및 여수신금리</td>\n",
       "      <td>101000</td>\n",
       "      <td>098Y001</td>\n",
       "      <td></td>\n",
       "      <td></td>\n",
       "      <td>한국은행 기준금리</td>\n",
       "      <td></td>\n",
       "      <td>1.75</td>\n",
       "      <td></td>\n",
       "      <td>201903</td>\n",
       "    </tr>\n",
       "    <tr>\n",
       "      <th>3</th>\n",
       "      <td>연%</td>\n",
       "      <td>2.6.한국은행 기준금리 및 여수신금리</td>\n",
       "      <td>101000</td>\n",
       "      <td>098Y001</td>\n",
       "      <td></td>\n",
       "      <td></td>\n",
       "      <td>한국은행 기준금리</td>\n",
       "      <td></td>\n",
       "      <td>1.75</td>\n",
       "      <td></td>\n",
       "      <td>201904</td>\n",
       "    </tr>\n",
       "    <tr>\n",
       "      <th>4</th>\n",
       "      <td>연%</td>\n",
       "      <td>2.6.한국은행 기준금리 및 여수신금리</td>\n",
       "      <td>101000</td>\n",
       "      <td>098Y001</td>\n",
       "      <td></td>\n",
       "      <td></td>\n",
       "      <td>한국은행 기준금리</td>\n",
       "      <td></td>\n",
       "      <td>1.75</td>\n",
       "      <td></td>\n",
       "      <td>201905</td>\n",
       "    </tr>\n",
       "  </tbody>\n",
       "</table>\n",
       "</div>"
      ],
      "text/plain": [
       "  UNIT_NAME              STAT_NAME  ITEM_CODE1 STAT_CODE ITEM_CODE2  \\\n",
       "0        연%  2.6.한국은행 기준금리 및 여수신금리      101000   098Y001              \n",
       "1        연%  2.6.한국은행 기준금리 및 여수신금리      101000   098Y001              \n",
       "2        연%  2.6.한국은행 기준금리 및 여수신금리      101000   098Y001              \n",
       "3        연%  2.6.한국은행 기준금리 및 여수신금리      101000   098Y001              \n",
       "4        연%  2.6.한국은행 기준금리 및 여수신금리      101000   098Y001              \n",
       "\n",
       "  ITEM_CODE3 ITEM_NAME1 ITEM_NAME2  DATA_VALUE ITEM_NAME3    TIME  \n",
       "0             한국은행 기준금리                   1.75             201901  \n",
       "1             한국은행 기준금리                   1.75             201902  \n",
       "2             한국은행 기준금리                   1.75             201903  \n",
       "3             한국은행 기준금리                   1.75             201904  \n",
       "4             한국은행 기준금리                   1.75             201905  "
      ]
     },
     "execution_count": 279,
     "metadata": {},
     "output_type": "execute_result"
    }
   ],
   "source": [
    "df.head()"
   ]
  },
  {
   "cell_type": "code",
   "execution_count": 280,
   "id": "cd122317-2ae2-434c-973d-1758813b5d69",
   "metadata": {},
   "outputs": [
    {
     "data": {
      "text/plain": [
       "array([201901, 201902, 201903, 201904, 201905, 201906, 201907, 201908,\n",
       "       201909, 201910, 201911, 201912, 202001, 202002, 202003, 202004,\n",
       "       202005, 202006, 202007, 202008, 202009, 202010, 202011, 202012,\n",
       "       202101, 202102, 202103, 202104, 202105, 202106, 202107, 202108,\n",
       "       202109, 202110, 202111, 202112, 202201, 202202, 202203, 202204],\n",
       "      dtype=int64)"
      ]
     },
     "execution_count": 280,
     "metadata": {},
     "output_type": "execute_result"
    }
   ],
   "source": [
    "df.TIME.unique()"
   ]
  },
  {
   "cell_type": "code",
   "execution_count": 267,
   "id": "8b0262f8-e567-48f4-9e8e-22ada2b2f2bf",
   "metadata": {},
   "outputs": [
    {
     "data": {
      "text/html": [
       "<div>\n",
       "<style scoped>\n",
       "    .dataframe tbody tr th:only-of-type {\n",
       "        vertical-align: middle;\n",
       "    }\n",
       "\n",
       "    .dataframe tbody tr th {\n",
       "        vertical-align: top;\n",
       "    }\n",
       "\n",
       "    .dataframe thead th {\n",
       "        text-align: right;\n",
       "    }\n",
       "</style>\n",
       "<table border=\"1\" class=\"dataframe\">\n",
       "  <thead>\n",
       "    <tr style=\"text-align: right;\">\n",
       "      <th></th>\n",
       "      <th>UNIT_NAME</th>\n",
       "      <th>STAT_NAME</th>\n",
       "      <th>ITEM_CODE1</th>\n",
       "      <th>STAT_CODE</th>\n",
       "      <th>ITEM_CODE2</th>\n",
       "      <th>ITEM_CODE3</th>\n",
       "      <th>ITEM_NAME1</th>\n",
       "      <th>ITEM_NAME2</th>\n",
       "      <th>DATA_VALUE</th>\n",
       "      <th>ITEM_NAME3</th>\n",
       "      <th>TIME</th>\n",
       "    </tr>\n",
       "  </thead>\n",
       "  <tbody>\n",
       "    <tr>\n",
       "      <th>541</th>\n",
       "      <td>연%</td>\n",
       "      <td>2.6.한국은행 기준금리 및 여수신금리</td>\n",
       "      <td>105000</td>\n",
       "      <td>098Y001</td>\n",
       "      <td></td>\n",
       "      <td></td>\n",
       "      <td>자금조정 예금금리</td>\n",
       "      <td></td>\n",
       "      <td>0.50</td>\n",
       "      <td></td>\n",
       "      <td>201908</td>\n",
       "    </tr>\n",
       "    <tr>\n",
       "      <th>542</th>\n",
       "      <td>연%</td>\n",
       "      <td>2.6.한국은행 기준금리 및 여수신금리</td>\n",
       "      <td>105000</td>\n",
       "      <td>098Y001</td>\n",
       "      <td></td>\n",
       "      <td></td>\n",
       "      <td>자금조정 예금금리</td>\n",
       "      <td></td>\n",
       "      <td>0.50</td>\n",
       "      <td></td>\n",
       "      <td>201909</td>\n",
       "    </tr>\n",
       "    <tr>\n",
       "      <th>543</th>\n",
       "      <td>연%</td>\n",
       "      <td>2.6.한국은행 기준금리 및 여수신금리</td>\n",
       "      <td>105000</td>\n",
       "      <td>098Y001</td>\n",
       "      <td></td>\n",
       "      <td></td>\n",
       "      <td>자금조정 예금금리</td>\n",
       "      <td></td>\n",
       "      <td>0.25</td>\n",
       "      <td></td>\n",
       "      <td>201910</td>\n",
       "    </tr>\n",
       "    <tr>\n",
       "      <th>544</th>\n",
       "      <td>연%</td>\n",
       "      <td>2.6.한국은행 기준금리 및 여수신금리</td>\n",
       "      <td>105000</td>\n",
       "      <td>098Y001</td>\n",
       "      <td></td>\n",
       "      <td></td>\n",
       "      <td>자금조정 예금금리</td>\n",
       "      <td></td>\n",
       "      <td>0.25</td>\n",
       "      <td></td>\n",
       "      <td>201911</td>\n",
       "    </tr>\n",
       "    <tr>\n",
       "      <th>545</th>\n",
       "      <td>연%</td>\n",
       "      <td>2.6.한국은행 기준금리 및 여수신금리</td>\n",
       "      <td>105000</td>\n",
       "      <td>098Y001</td>\n",
       "      <td></td>\n",
       "      <td></td>\n",
       "      <td>자금조정 예금금리</td>\n",
       "      <td></td>\n",
       "      <td>0.25</td>\n",
       "      <td></td>\n",
       "      <td>201912</td>\n",
       "    </tr>\n",
       "  </tbody>\n",
       "</table>\n",
       "</div>"
      ],
      "text/plain": [
       "    UNIT_NAME              STAT_NAME  ITEM_CODE1 STAT_CODE ITEM_CODE2  \\\n",
       "541        연%  2.6.한국은행 기준금리 및 여수신금리      105000   098Y001              \n",
       "542        연%  2.6.한국은행 기준금리 및 여수신금리      105000   098Y001              \n",
       "543        연%  2.6.한국은행 기준금리 및 여수신금리      105000   098Y001              \n",
       "544        연%  2.6.한국은행 기준금리 및 여수신금리      105000   098Y001              \n",
       "545        연%  2.6.한국은행 기준금리 및 여수신금리      105000   098Y001              \n",
       "\n",
       "    ITEM_CODE3 ITEM_NAME1 ITEM_NAME2  DATA_VALUE ITEM_NAME3    TIME  \n",
       "541             자금조정 예금금리                   0.50             201908  \n",
       "542             자금조정 예금금리                   0.50             201909  \n",
       "543             자금조정 예금금리                   0.25             201910  \n",
       "544             자금조정 예금금리                   0.25             201911  \n",
       "545             자금조정 예금금리                   0.25             201912  "
      ]
     },
     "execution_count": 267,
     "metadata": {},
     "output_type": "execute_result"
    }
   ],
   "source": [
    "df.tail()"
   ]
  }
 ],
 "metadata": {
  "kernelspec": {
   "display_name": "Python 3 (ipykernel)",
   "language": "python",
   "name": "python3"
  },
  "language_info": {
   "codemirror_mode": {
    "name": "ipython",
    "version": 3
   },
   "file_extension": ".py",
   "mimetype": "text/x-python",
   "name": "python",
   "nbconvert_exporter": "python",
   "pygments_lexer": "ipython3",
   "version": "3.9.5"
  }
 },
 "nbformat": 4,
 "nbformat_minor": 5
}
